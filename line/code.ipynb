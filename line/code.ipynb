
import sys                                                    #for path to external scripts
sys.path.insert(0,'/home/sinkona/Documents/CoordGeo')         #path to my scripts

#To find the area of a quadrilateral

#import module
import random as rd
import numpy as np
import matplotlib.pyplot as plt

# initialize x and y coordinates

x1 = [-4, 0, 5, -4, -4]
y1 = [ 5, 7,-5, -2,  5]
pts1=['D','C','B','A']
plt.scatter(x1,y1)

plt.plot(x1,y1)
vert_labels = ['A(-4,5)','B(0,7)','C(5,-5)','D(-4,-2)']
for i, txt in enumerate(vert_labels):
    plt.annotate(txt, # this is the text
                 (x1[i], y1[i]), # this is the point to label
                 textcoords="offset points", # how to position the text
                 xytext=(2,10), # distance from text to points (x,y)
                 ha='center') # horizontal alignment can be left, right or center
    
plt.xlabel('$x$')
plt.ylabel('$y$')
plt.grid() # minor
plt.axis([-8,8,-8,10])
plt.show()
    
    
x1 = [-4, 0, 5, -4, -4, 5]
y1 = [ 5, 7,-5, -2,  5,-5]
pts1=['D','C','B','A']
plt.scatter(x1,y1)

plt.plot(x1,y1)
vert_labels = ['A(-4,5)','B(0,7)','C(5,-5)','D(-4,-2)']
for i, txt in enumerate(vert_labels):
    plt.annotate(txt, # this is the text
                 (x1[i], y1[i]), # this is the point to label
                 textcoords="offset points", # how to position the text
                 xytext=(2,10), # distance from text to points (x,y)
                 ha='center') # horizontal alignment can be left, right or center    
    
    
plt.xlabel('$x$')
plt.ylabel('$y$')
plt.grid() # minor
plt.axis([-8,8,-8,10])
plt.show()
